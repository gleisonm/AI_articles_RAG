{
 "cells": [
  {
   "cell_type": "code",
   "execution_count": 11,
   "metadata": {},
   "outputs": [],
   "source": [
    "from pymed import PubMed\n",
    "pubmed = PubMed(tool=\"MyTool\", email=\"my@email.address\")"
   ]
  },
  {
   "cell_type": "code",
   "execution_count": 12,
   "metadata": {},
   "outputs": [
    {
     "name": "stdout",
     "output_type": "stream",
     "text": [
      "38662144\n"
     ]
    }
   ],
   "source": [
    "import requests\n",
    "from xml.etree import ElementTree\n",
    "\n",
    "def get_pubmed_id_from_doi(doi):\n",
    "    # Define a URL para a pesquisa no Entrez\n",
    "    url = \"https://eutils.ncbi.nlm.nih.gov/entrez/eutils/esearch.fcgi\"\n",
    "    \n",
    "    # Define os parâmetros da requisição\n",
    "    params = {\n",
    "        'db': 'pubmed',\n",
    "        'term': doi,\n",
    "        'retmode': 'xml'\n",
    "    }\n",
    "    \n",
    "    # Faz a requisição GET para a API Entrez\n",
    "    response = requests.get(url, params=params)\n",
    "    \n",
    "    # Verifica se a requisição foi bem sucedida\n",
    "    if response.status_code == 200:\n",
    "        # Analisa a resposta XML\n",
    "        root = ElementTree.fromstring(response.content)\n",
    "        # Obtém o ID do PubMed a partir do XML\n",
    "        id_list = root.find('IdList')\n",
    "        if id_list is not None:\n",
    "            ids = [id_elem.text for id_elem in id_list.findall('Id')]\n",
    "            if ids:\n",
    "                return ids[0]  # Retorna o primeiro ID encontrado\n",
    "        return None\n",
    "    else:\n",
    "        raise Exception(f\"Erro ao buscar dados do Entrez: {response.status_code}\")\n",
    "\n",
    "# Exemplo de uso\n",
    "doi = \"10.1007/s12031-024-02203-9\"  # Substitua pelo DOI desejado\n",
    "pmid = get_pubmed_id_from_doi(doi)\n",
    "if pmid:\n",
    "    print(pmid)\n",
    "else:\n",
    "    print(f\"Nenhum PubMed ID encontrado para o DOI {doi}.\")"
   ]
  },
  {
   "cell_type": "code",
   "execution_count": 13,
   "metadata": {},
   "outputs": [],
   "source": [
    "# Retrieve specific article IDs\n",
    "articles = pubmed._getArticles(article_ids=[38662144])"
   ]
  },
  {
   "cell_type": "code",
   "execution_count": 14,
   "metadata": {},
   "outputs": [
    {
     "name": "stdout",
     "output_type": "stream",
     "text": [
      "Title: A Prognostic Methylation-Driven Two-Gene Signature in Medulloblastoma.\n",
      "Journal: Journal of molecular neuroscience : MN\n",
      "Publication Date: 2024-04-25\n",
      "Authors:\n",
      "  - Gustavo Lovatto Michaelsen, GL\n",
      "    Affiliation: Children's Cancer Institute, Porto Alegre, 90620-110, RS, Brazil. Bioinformatics Multidisciplinary Environment-BioME, Digital Metropole Institute, Federal University of Rio Grande do Norte, Natal, 59076-550, RN, Brazil. National Science and Technology Institute for Children's Cancer Biology and Pediatric Oncology - INCT BioOncoPed, Porto Alegre, 90035-003, RS, Brazil.\n",
      "  - Lívia Dos Reis Edinger da Silva, LDRE\n",
      "    Affiliation: Children's Cancer Institute, Porto Alegre, 90620-110, RS, Brazil. Federal University of Health Sciences of Porto Alegre, Porto Alegre, 90050-170, RS, Brazil.\n",
      "  - Douglas Silva de Lima, DS\n",
      "    Affiliation: Children's Cancer Institute, Porto Alegre, 90620-110, RS, Brazil. Institute of Basic Health Sciences, Federal University of Rio Grande do Sul, Porto Alegre, 90035-003, RS, Brazil.\n",
      "  - Mariane da Cunha Jaeger, MDC\n",
      "    Affiliation: Children's Cancer Institute, Porto Alegre, 90620-110, RS, Brazil. National Science and Technology Institute for Children's Cancer Biology and Pediatric Oncology - INCT BioOncoPed, Porto Alegre, 90035-003, RS, Brazil.\n",
      "  - André Tesainer Brunetto, AT\n",
      "    Affiliation: Children's Cancer Institute, Porto Alegre, 90620-110, RS, Brazil. National Science and Technology Institute for Children's Cancer Biology and Pediatric Oncology - INCT BioOncoPed, Porto Alegre, 90035-003, RS, Brazil.\n",
      "  - Rodrigo Juliani Siqueira Dalmolin, RJS\n",
      "    Affiliation: Bioinformatics Multidisciplinary Environment-BioME, Digital Metropole Institute, Federal University of Rio Grande do Norte, Natal, 59076-550, RN, Brazil. Department of Biochemistry, Federal University of Rio Grande do Norte, Natal, 59064-741, RN, Brazil.\n",
      "  - Marialva Sinigaglia, M\n",
      "    Affiliation: Children's Cancer Institute, Porto Alegre, 90620-110, RS, Brazil. msinigaglia@ici.ong. Bioinformatics Multidisciplinary Environment-BioME, Digital Metropole Institute, Federal University of Rio Grande do Norte, Natal, 59076-550, RN, Brazil. msinigaglia@ici.ong. National Science and Technology Institute for Children's Cancer Biology and Pediatric Oncology - INCT BioOncoPed, Porto Alegre, 90035-003, RS, Brazil. msinigaglia@ici.ong.\n",
      "Keywords: DNA methylation, Medulloblastoma, Precision medicine, Prognostic biomarker\n",
      "Abstract: Medulloblastoma (MB) is one of the most common pediatric brain tumors and it is estimated that one-third of patients will not achieve long-term survival. Conventional prognostic parameters have limited and unreliable correlations with MB outcome, presenting a major challenge for patients' clinical improvement. Acknowledging this issue, our aim was to build a gene signature and evaluate its potential as a new prognostic model for patients with the disease. In this study, we used six datasets totaling 1679 samples including RNA gene expression and DNA methylation data from primary MB as well as control samples from healthy cerebellum. We identified methylation-driven genes (MDGs) in MB, genes whose expression is correlated with their methylation. We employed LASSO regression, incorporating the MDGs as a parameter to develop the prognostic model. Through this approach, we derived a two-gene signature (GS-2) of candidate prognostic biomarkers for MB (CEMIP and NCBP3). Using a risk score model, we confirmed the GS-2 impact on overall survival (OS) with Kaplan-Meier analysis. We evaluated its robustness and accuracy with receiver operating characteristic curves predicting OS at 1, 3, and 5 years in multiple independent datasets. The GS-2 showed highly significant results as an independent prognostic biomarker compared to traditional MB markers. The methylation-regulated GS-2 risk score model can effectively classify patients with MB into high and low-risk, reinforcing the importance of this epigenetic modification in the disease. Such genes stand out as promising prognostic biomarkers with potential application for MB treatment.\n"
     ]
    }
   ],
   "source": [
    "# Show the article\n",
    "for article in articles:\n",
    "    print(f\"Title: {article.title}\")\n",
    "    print(f\"Journal: {article.journal}\")\n",
    "    print(f\"Publication Date: {article.publication_date}\")\n",
    "    print(\"Authors:\")\n",
    "    for author in article.authors:\n",
    "        print(f\"  - {author['firstname']} {author['lastname']}, {author['initials']}\")\n",
    "        affiliation = author['affiliation'].replace('\\n', ' ')\n",
    "        print(f\"    Affiliation: {affiliation}\")\n",
    "    print(f\"Keywords: {', '.join(article.keywords)}\")\n",
    "    print(f\"Abstract: {article.abstract}\")"
   ]
  }
 ],
 "metadata": {
  "language_info": {
   "name": "python"
  }
 },
 "nbformat": 4,
 "nbformat_minor": 2
}
